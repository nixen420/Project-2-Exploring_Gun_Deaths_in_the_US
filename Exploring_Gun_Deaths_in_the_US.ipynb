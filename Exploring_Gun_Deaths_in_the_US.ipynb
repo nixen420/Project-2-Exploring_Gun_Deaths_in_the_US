{
 "cells": [
  {
   "cell_type": "markdown",
   "metadata": {},
   "source": [
    "# 1: Introduction To The Dataset"
   ]
  },
  {
   "cell_type": "code",
   "execution_count": 1,
   "metadata": {
    "collapsed": true
   },
   "outputs": [],
   "source": [
    "# Instructions:\n",
    "\n",
    "# Read the dataset in as a list using the csv module.\n",
    "# Import the csv module.\n",
    "# Open the file using the open() function.\n",
    "# Use the csv.reader() function to load the opened file.\n",
    "# Call list() on the result to get a list of all the data in the file.\n",
    "# Assign the result to the variable data.\n",
    "# Display the first 5 rows of data to verify everything.\n",
    "\n",
    "import csv"
   ]
  },
  {
   "cell_type": "code",
   "execution_count": 2,
   "metadata": {},
   "outputs": [
    {
     "name": "stdout",
     "output_type": "stream",
     "text": [
      "[['', 'year', 'month', 'intent', 'police', 'sex', 'age', 'race', 'hispanic', 'place', 'education'], ['1', '2012', '01', 'Suicide', '0', 'M', '34', 'Asian/Pacific Islander', '100', 'Home', '4'], ['2', '2012', '01', 'Suicide', '0', 'F', '21', 'White', '100', 'Street', '3'], ['3', '2012', '01', 'Suicide', '0', 'M', '60', 'White', '100', 'Other specified', '4'], ['4', '2012', '02', 'Suicide', '0', 'M', '64', 'White', '100', 'Home', '4']]\n"
     ]
    }
   ],
   "source": [
    "filename = '/home/nikhil/Documents/guns.csv'\n",
    "f = open(filename,\"r\")\n",
    "csvreaderf = csv.reader(f)\n",
    "data = list(csvreaderf)\n",
    "print(data[0:5])\n",
    "        "
   ]
  },
  {
   "cell_type": "markdown",
   "metadata": {},
   "source": [
    "# 2: Removing Headers From A List Of Lists:"
   ]
  },
  {
   "cell_type": "code",
   "execution_count": 3,
   "metadata": {},
   "outputs": [
    {
     "name": "stdout",
     "output_type": "stream",
     "text": [
      "['', 'year', 'month', 'intent', 'police', 'sex', 'age', 'race', 'hispanic', 'place', 'education']\n"
     ]
    }
   ],
   "source": [
    "# In the last screen, we read our data into the list of lists data. Each inner list in data represents a single row.\n",
    "# Each item in the inner lists represents a single column for that row.\n",
    "\n",
    "# Instructions:\n",
    "\n",
    "# Extract the first row of data, and assign it to the variable headers.\n",
    "# Remove the first row from data.\n",
    "# Display headers.\n",
    "# Display the first 5 rows of data to verify that you removed the header row properly.\n",
    "\n",
    "headers = data[0]\n",
    "print headers"
   ]
  },
  {
   "cell_type": "code",
   "execution_count": 4,
   "metadata": {},
   "outputs": [
    {
     "name": "stdout",
     "output_type": "stream",
     "text": [
      "[['1', '2012', '01', 'Suicide', '0', 'M', '34', 'Asian/Pacific Islander', '100', 'Home', '4'], ['2', '2012', '01', 'Suicide', '0', 'F', '21', 'White', '100', 'Street', '3'], ['3', '2012', '01', 'Suicide', '0', 'M', '60', 'White', '100', 'Other specified', '4'], ['4', '2012', '02', 'Suicide', '0', 'M', '64', 'White', '100', 'Home', '4'], ['5', '2012', '02', 'Suicide', '0', 'M', '31', 'White', '100', 'Other specified', '2']]\n"
     ]
    }
   ],
   "source": [
    "data = data[1:len(data)]\n",
    "print data[0:5]"
   ]
  },
  {
   "cell_type": "markdown",
   "metadata": {},
   "source": [
    "# 3: Counting Gun Deaths By Year"
   ]
  },
  {
   "cell_type": "code",
   "execution_count": 5,
   "metadata": {},
   "outputs": [
    {
     "name": "stdout",
     "output_type": "stream",
     "text": [
      "{2012: 33563, 2013: 33636, 2014: 33599}\n"
     ]
    }
   ],
   "source": [
    "# The year column contains information on the year in which gun deaths occurred.\n",
    "# We can use this column to calculate how many gun deaths happened in each year.\n",
    "# We can perform this operation by creating a dictionary,\n",
    "# then keeping count in the dictionary of how many times each element occurs in the year column.\n",
    "\n",
    "# Instructions:\n",
    "\n",
    "# Use a list comprehension to extract the year column from data.\n",
    "# Because the year column is the second column in the data, you'll need to get the element at index 1 in each row.\n",
    "# Assign the result to the variable years.\n",
    "# Create an empty dictionary called year_counts.\n",
    "# Loop through each element in years.\n",
    "# If the element isn't a key in year_counts, create it, and set the value to 1.\n",
    "# If the element is a key in year_counts, increment the value by one.\n",
    "# Display year_counts to see how many gun deaths occur in each year.\n",
    "\n",
    "years = [int(item[1]) for item in data]\n",
    "#print years\n",
    "year_counts = {}\n",
    "for item in years:\n",
    "    if item not in year_counts:\n",
    "        year_counts[item] = 1\n",
    "    else:\n",
    "        year_counts[item] += 1\n",
    "print(year_counts)"
   ]
  },
  {
   "cell_type": "markdown",
   "metadata": {},
   "source": [
    "# 4: Exploring Gun Deaths By Month And Year"
   ]
  },
  {
   "cell_type": "code",
   "execution_count": 6,
   "metadata": {},
   "outputs": [
    {
     "name": "stdout",
     "output_type": "stream",
     "text": [
      "{datetime.datetime(2013, 8, 1, 0, 0): 2859, datetime.datetime(2014, 3, 1, 0, 0): 2684, datetime.datetime(2013, 4, 1, 0, 0): 2798, datetime.datetime(2014, 10, 1, 0, 0): 2865, datetime.datetime(2013, 10, 1, 0, 0): 2808, datetime.datetime(2013, 3, 1, 0, 0): 2862, datetime.datetime(2014, 12, 1, 0, 0): 2857, datetime.datetime(2014, 2, 1, 0, 0): 2361, datetime.datetime(2013, 9, 1, 0, 0): 2742, datetime.datetime(2013, 6, 1, 0, 0): 2920, datetime.datetime(2012, 3, 1, 0, 0): 2743, datetime.datetime(2013, 5, 1, 0, 0): 2806, datetime.datetime(2012, 12, 1, 0, 0): 2791, datetime.datetime(2014, 5, 1, 0, 0): 2864, datetime.datetime(2012, 2, 1, 0, 0): 2357, datetime.datetime(2014, 7, 1, 0, 0): 2884, datetime.datetime(2013, 11, 1, 0, 0): 2758, datetime.datetime(2014, 4, 1, 0, 0): 2862, datetime.datetime(2013, 7, 1, 0, 0): 3079, datetime.datetime(2012, 1, 1, 0, 0): 2758, datetime.datetime(2013, 12, 1, 0, 0): 2765, datetime.datetime(2012, 11, 1, 0, 0): 2729, datetime.datetime(2012, 7, 1, 0, 0): 3026, datetime.datetime(2012, 9, 1, 0, 0): 2852, datetime.datetime(2014, 9, 1, 0, 0): 2914, datetime.datetime(2014, 6, 1, 0, 0): 2931, datetime.datetime(2014, 8, 1, 0, 0): 2970, datetime.datetime(2012, 10, 1, 0, 0): 2733, datetime.datetime(2012, 5, 1, 0, 0): 2999, datetime.datetime(2012, 6, 1, 0, 0): 2826, datetime.datetime(2014, 11, 1, 0, 0): 2756, datetime.datetime(2013, 1, 1, 0, 0): 2864, datetime.datetime(2012, 8, 1, 0, 0): 2954, datetime.datetime(2014, 1, 1, 0, 0): 2651, datetime.datetime(2012, 4, 1, 0, 0): 2795, datetime.datetime(2013, 2, 1, 0, 0): 2375}\n"
     ]
    }
   ],
   "source": [
    "# It looks like gun deaths didn't change much by year from 2012 to 2014. Let's see if gun deaths in the US change by month and year.\n",
    "# In order to do this, we'll have to create a datetime.datetime object using the year and month columns. \n",
    "# We'll then be about to count up gun deaths by date, like we did by year . \n",
    "\n",
    "# date = datetime(year=2016, month=12, day=1).\n",
    "\n",
    "# We can use the month and year column of data to create a datetime. \n",
    "# We'll specify a fixed day because we're missing that column in our data.\n",
    "# If we create a datetime.datetime object for each row, \n",
    "# we can then count up how many gun deaths occurred in each month and year.\n",
    "\n",
    "# Instructions:\n",
    "\n",
    "# Use a list comprehension to create a datetime.datetime object for each row. Assign the result to dates.\n",
    "# The year column in the second element in each row.\n",
    "# The month column is the third element in each row.\n",
    "# Make sure to convert year and month to integers using int().\n",
    "# Pass year, month, and day=1 into the datetime.datetime()function.\n",
    "\n",
    "import datetime\n",
    "dates = [datetime.datetime(year = int(item[1]), month = int(item[2]), day = 1) for item in data]\n",
    "#print dates\n",
    "date_counts = {}\n",
    "for item in dates:\n",
    "    if item not in date_counts:\n",
    "        date_counts[item] = 1\n",
    "    else:\n",
    "        date_counts[item] += 1\n",
    "print date_counts\n"
   ]
  },
  {
   "cell_type": "markdown",
   "metadata": {},
   "source": [
    "# 5: Exploring Gun Deaths By Race And Sex\n"
   ]
  },
  {
   "cell_type": "code",
   "execution_count": 7,
   "metadata": {},
   "outputs": [
    {
     "name": "stdout",
     "output_type": "stream",
     "text": [
      "{'M': 86349, 'F': 14449}\n",
      "{'Native American/Native Alaskan': 917, 'Black': 23296, 'White': 66237, 'Asian/Pacific Islander': 1326, 'Hispanic': 9022}\n"
     ]
    }
   ],
   "source": [
    "# The sex and race columns contain potentially interesting information on how gun deaths in the US vary by gender and race.\n",
    "# Exploring both of these columns can be done with a similar dictionary counting technique to what we did earlier.\n",
    "\n",
    "# Instructions:\n",
    "\n",
    "# Count up how many times each item in the sex column occurs.\n",
    "# Assign the result to sex_counts.\n",
    "# Count up how many times each item in the race column occurs.\n",
    "# Assign the result to race_counts.\n",
    "# Display race_counts and sex_counts to verify your work, and see if you can spot any patterns.\n",
    "# Write a markdown cell detailing what you've learned so far, and what you think might need further examination.\n",
    "\n",
    "sex = [item[5] for item in data]\n",
    "sex_counts = {}\n",
    "for item in sex:\n",
    "    if item not in sex_counts:\n",
    "        sex_counts[item] = 1\n",
    "    else:\n",
    "        sex_counts[item] += 1\n",
    "print sex_counts\n",
    "\n",
    "\n",
    "race = [item[7]for item in data]\n",
    "race_counts = {}\n",
    "for item in race:\n",
    "    if item not in race_counts:\n",
    "        race_counts[item] = 1\n",
    "    else:\n",
    "        race_counts[item] += 1\n",
    "print race_counts\n"
   ]
  },
  {
   "cell_type": "markdown",
   "metadata": {},
   "source": [
    "### From the result, we can see that most of gun shooting incidents happend with Males. Races most affected are White, Black and Hispanic."
   ]
  },
  {
   "cell_type": "markdown",
   "metadata": {},
   "source": [
    "# 6: Reading In A Second Dataset"
   ]
  },
  {
   "cell_type": "code",
   "execution_count": 8,
   "metadata": {},
   "outputs": [
    {
     "name": "stdout",
     "output_type": "stream",
     "text": [
      "[['Id', 'Year', 'Id', 'Sex', 'Id', 'Hispanic Origin', 'Id', 'Id2', 'Geography', 'Total', 'Race Alone - White', 'Race Alone - Hispanic', 'Race Alone - Black or African American', 'Race Alone - American Indian and Alaska Native', 'Race Alone - Asian', 'Race Alone - Native Hawaiian and Other Pacific Islander', 'Two or More Races'], ['cen42010', 'April 1, 2010 Census', 'totsex', 'Both Sexes', 'tothisp', 'Total', '0100000US', '', 'United States', '308745538', '197318956', '44618105', '40250635', '3739506', '15159516', '674625', '6984195']]\n"
     ]
    }
   ],
   "source": [
    "# We explored gun deaths by race in the past screen. However, \n",
    "# our analysis only gives us the total number of gun deaths by race in the US.\n",
    "# Unless we know the proportion of each race in the US, we won't be able to meaningfully compare those numbers. \n",
    "# What we really want to get is a rate of gun deaths per 100000 people of each race. In order to do this,\n",
    "# we'll need to read in data about what percentage of the US population falls into each racial category.\n",
    "# Luckily, we can import some census data to help us out. \n",
    "# The data contains information on the total population of the US, \n",
    "# as well as the total population of each racial group in the US. The data is stored in the census.csv file,\n",
    "# and only consists of two rows. \n",
    "\n",
    "# Instructions:\n",
    "    \n",
    "# Read in census.csv, and convert to a list of lists. Assign the result to the census variable.\n",
    "# Display census to verify your work.\n",
    "\n",
    "import csv\n",
    "filename = '/home/nikhil/Documents/census.csv'\n",
    "f = open(filename,\"r\")\n",
    "csvreaderf = csv.reader(f)\n",
    "data = list(csvreaderf)\n",
    "print(data[0:5])"
   ]
  },
  {
   "cell_type": "markdown",
   "metadata": {},
   "source": [
    "# 7: Computing Rates Of Gun Deaths Per Race"
   ]
  },
  {
   "cell_type": "code",
   "execution_count": 9,
   "metadata": {},
   "outputs": [
    {
     "name": "stdout",
     "output_type": "stream",
     "text": [
      "{'Native American/Native Alaskan': 0, 'Asian/Pacific Islander': 0, 'White': 0, 'Black': 0, 'Hispanic': 0}\n"
     ]
    }
   ],
   "source": [
    "# Earlier, we computed the number of gun deaths per race, and created a dictionary.\n",
    "# Instructions:\n",
    "\n",
    "# Manually create a dictionary, mapping that maps each key from race_countsto the population count of the race from census.\n",
    "# The keys in the dictionary should be Asian/Pacific Islander, Black, Native American/Native Alaskan, Hispanic, and White.\n",
    "# In the case of Asian/Pacific Islander,\n",
    "# you'll need to add the counts from census for Race Alone - Asian, and Race Alone - Native Hawaiian and Other Pacific Islander.\n",
    "# Create an empty dictionary, race_per_hundredk.\n",
    "# Loop through each key in race_counts.\n",
    "# Divide the value associated with the key in race_counts by the value associated with the key in mapping.\n",
    "# Multiply by 100000.\n",
    "# Assign the result to the same key in race_per_hundredk\n",
    "\n",
    "\n",
    "mapping = {'Native American/Native Alaskan': 3739506,\n",
    "           'Hispanic': 44618105,\n",
    "           'Black': 40250635,\n",
    "           'White': 197318956,\n",
    "           'Asian/Pacific Islander': 15834141}\n",
    "race_per_hundredk = {}\n",
    "for item in race_counts:\n",
    "    race_per_hundredk[item] = race_counts[item]/mapping[item]*100000\n",
    "print race_per_hundredk\n"
   ]
  },
  {
   "cell_type": "markdown",
   "metadata": {},
   "source": [
    "# 8: Filtering By Intent"
   ]
  },
  {
   "cell_type": "code",
   "execution_count": 10,
   "metadata": {},
   "outputs": [
    {
     "ename": "IndexError",
     "evalue": "list index out of range",
     "output_type": "error",
     "traceback": [
      "\u001b[0;31m---------------------------------------------------------------------------\u001b[0m",
      "\u001b[0;31mIndexError\u001b[0m                                Traceback (most recent call last)",
      "\u001b[0;32m<ipython-input-10-16bbfb94d412>\u001b[0m in \u001b[0;36m<module>\u001b[0;34m()\u001b[0m\n\u001b[1;32m     28\u001b[0m \u001b[0mrace_counts\u001b[0m \u001b[0;34m=\u001b[0m \u001b[0;34m{\u001b[0m\u001b[0;34m}\u001b[0m\u001b[0;34m\u001b[0m\u001b[0m\n\u001b[1;32m     29\u001b[0m \u001b[0;32mfor\u001b[0m \u001b[0mindex\u001b[0m\u001b[0;34m,\u001b[0m \u001b[0mitem\u001b[0m \u001b[0;32min\u001b[0m \u001b[0menumerate\u001b[0m\u001b[0;34m(\u001b[0m\u001b[0mrace\u001b[0m\u001b[0;34m)\u001b[0m\u001b[0;34m:\u001b[0m\u001b[0;34m\u001b[0m\u001b[0m\n\u001b[0;32m---> 30\u001b[0;31m     \u001b[0;32mif\u001b[0m \u001b[0mintent\u001b[0m\u001b[0;34m[\u001b[0m\u001b[0mindex\u001b[0m\u001b[0;34m]\u001b[0m \u001b[0;34m==\u001b[0m \u001b[0;34m\"Homicide\"\u001b[0m\u001b[0;34m:\u001b[0m\u001b[0;34m\u001b[0m\u001b[0m\n\u001b[0m\u001b[1;32m     31\u001b[0m         \u001b[0;32mif\u001b[0m \u001b[0mitem\u001b[0m \u001b[0;32mnot\u001b[0m \u001b[0;32min\u001b[0m \u001b[0mrace_counts\u001b[0m\u001b[0;34m:\u001b[0m\u001b[0;34m\u001b[0m\u001b[0m\n\u001b[1;32m     32\u001b[0m             \u001b[0mrace_counts\u001b[0m\u001b[0;34m[\u001b[0m\u001b[0mitem\u001b[0m\u001b[0;34m]\u001b[0m \u001b[0;34m=\u001b[0m \u001b[0;36m1\u001b[0m\u001b[0;34m\u001b[0m\u001b[0m\n",
      "\u001b[0;31mIndexError\u001b[0m: list index out of range"
     ]
    }
   ],
   "source": [
    "# We can filter our results, and restrict them to the Homicideintent. \n",
    "# This will tell us what the gun-related murder rate per 100000 people in each racial category is. \n",
    "# In order to do this, we'll need to redo our work in generating race_counts, \n",
    "# but only count rows where the intent was Homicide.\n",
    "\n",
    "# Instructions:\n",
    "    \n",
    "# Extract the intent column using a list comprehension. The intent column is the fourth column in data.\n",
    "# Assign the result to intents.\n",
    "# Extract the race column using a list comprehension. The race column is the eighth column in data.\n",
    "# Assign the result to races.\n",
    "# Create an empty dictionary called homicide_race_per_hundredk\n",
    "# Use the enumerate() function to loop through each item in races.\n",
    "# The position should be assigned to the loop variable i,\n",
    "# and the value to the loop variable race.\n",
    "# Check the value at position i in intents.\n",
    "# If the value at position i in intents is Homicide:\n",
    "# If the key race doesn't exist in homicide_race_per_hundredk, create it.\n",
    "# Add 1 to the value associated with race in homicide_race_per_hundredk.\n",
    "# When you're done, homicide_race_per_hundredk should have one key for each of the racial categories in data.\n",
    "# The associated value should be the number of gun deaths by homicide for that race.\n",
    "# Perform the same procedure we did in the last screen using mapping on homicide_race_per_hundredk to get from raw numbers to rates per 100000.\n",
    "# Display homicide_race_per_hundredk to verify your work.\n",
    "# Write up your findings in a markdown cell.\n",
    "# Write up any next steps you want to pursue with the data in a markdown cell.\n",
    "\n",
    "intent = [item[3] for item in data]\n",
    "race_counts = {}\n",
    "for index, item in enumerate(race):\n",
    "    if intent[index] == \"Homicide\":\n",
    "        if item not in race_counts:\n",
    "            race_counts[item] = 1\n",
    "        else:\n",
    "            race_counts[item] += 1\n",
    "race_per_hundredk = {}\n",
    "for item in race_counts:\n",
    "    race_per_hundredk[item] = race_counts[item]/mapping[item]*100000\n",
    "print race_per_hundredk"
   ]
  },
  {
   "cell_type": "code",
   "execution_count": null,
   "metadata": {
    "collapsed": true
   },
   "outputs": [],
   "source": []
  }
 ],
 "metadata": {
  "kernelspec": {
   "display_name": "Python 2",
   "language": "python",
   "name": "python2"
  },
  "language_info": {
   "codemirror_mode": {
    "name": "ipython",
    "version": 2
   },
   "file_extension": ".py",
   "mimetype": "text/x-python",
   "name": "python",
   "nbconvert_exporter": "python",
   "pygments_lexer": "ipython2",
   "version": "2.7.13"
  }
 },
 "nbformat": 4,
 "nbformat_minor": 2
}
